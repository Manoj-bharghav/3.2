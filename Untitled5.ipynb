{
  "nbformat": 4,
  "nbformat_minor": 0,
  "metadata": {
    "colab": {
      "provenance": [],
      "authorship_tag": "ABX9TyP3rRERZYbD7NwNmFx3RAmA",
      "include_colab_link": true
    },
    "kernelspec": {
      "name": "python3",
      "display_name": "Python 3"
    },
    "language_info": {
      "name": "python"
    }
  },
  "cells": [
    {
      "cell_type": "markdown",
      "metadata": {
        "id": "view-in-github",
        "colab_type": "text"
      },
      "source": [
        "<a href=\"https://colab.research.google.com/github/Manoj-bharghav/3.2/blob/main/Untitled5.ipynb\" target=\"_parent\"><img src=\"https://colab.research.google.com/assets/colab-badge.svg\" alt=\"Open In Colab\"/></a>"
      ]
    },
    {
      "cell_type": "markdown",
      "source": [
        "Task Description #1:\n",
        "• Start a Python class named Student with attributes name, roll_number, and marks. Prompt\n",
        "GitHub Copilot to complete methods for displaying details and checking if marks are above\n",
        "average"
      ],
      "metadata": {
        "id": "Stm3tjf1at4x"
      }
    },
    {
      "cell_type": "code",
      "execution_count": 9,
      "metadata": {
        "colab": {
          "base_uri": "https://localhost:8080/"
        },
        "id": "tid1eAGySHrN",
        "outputId": "7b574a3c-07a2-4a49-ecb7-d2d1a72d6358"
      },
      "outputs": [
        {
          "output_type": "stream",
          "name": "stdout",
          "text": [
            "Name: aish\n",
            "Roll Number: 101\n",
            "Marks: 85\n",
            "Pass\n",
            "Name: ravi\n",
            "Roll Number: 102\n",
            "Marks: 35\n",
            "Fail\n",
            "{'name': 'aish', 'roll_number': 101, 'marks': 85}\n",
            "{'name': 'ravi', 'roll_number': 102, 'marks': 35}\n"
          ]
        }
      ],
      "source": [
        "class student:\n",
        "  def __init__(self,name,roll_number,marks):\n",
        "    self.name=name\n",
        "    self.roll_number=roll_number\n",
        "    self.marks=marks\n",
        "  #method to display student details\n",
        "  def display_details(self):\n",
        "    print(\"Name:\",self.name)\n",
        "    print(\"Roll Number:\",self.roll_number)\n",
        "    print(\"Marks:\",self.marks)\n",
        "  #method to check if student passed(marks>=40)\n",
        "  def check_pass_fail(self):\n",
        "    if self.marks>=40:\n",
        "      print(\"Pass\")\n",
        "    else:\n",
        "      print(\"Fail\")\n",
        "s1=student(\"aish\",101,85)\n",
        "s2=student(\"ravi\",102,35)\n",
        "s1.display_details()\n",
        "s1.check_pass_fail()\n",
        "s2.display_details()\n",
        "s2.check_pass_fail()\n",
        "print(s1.__dict__)\n",
        "print(s2.__dict__)"
      ]
    },
    {
      "cell_type": "markdown",
      "source": [
        "Task Description #2:\n",
        "• Write the first two lines of a for loop to iterate through a list of numbers. Use a comment\n",
        "prompt to let Copilot suggest how to calculate and print the square of even numbers only.     "
      ],
      "metadata": {
        "id": "fDekIOtZXZgX"
      }
    },
    {
      "cell_type": "code",
      "source": [
        "# identify ,a number even or odd and find square of an even numbers\n",
        "num = [1,3,5,2,6,12,8,9,11,]\n",
        "print(\"Even numbers\")\n",
        "for i in num:\n",
        "  if i%2==0:\n",
        "    print(i)\n",
        "print(\"Odd numbers\")\n",
        "for i in num:\n",
        "  if i%2!=0:\n",
        "    print(i)\n",
        "print(\"Square of even numbers\")\n",
        "for i in num:\n",
        "  if i%2==0:\n",
        "    print(i*i)\n"
      ],
      "metadata": {
        "colab": {
          "base_uri": "https://localhost:8080/"
        },
        "id": "cFcz5CIZTcvY",
        "outputId": "f79c7331-c394-49f4-a993-2e1b2da37036"
      },
      "execution_count": 10,
      "outputs": [
        {
          "output_type": "stream",
          "name": "stdout",
          "text": [
            "Even numbers\n",
            "2\n",
            "6\n",
            "12\n",
            "8\n",
            "Odd numbers\n",
            "1\n",
            "3\n",
            "5\n",
            "9\n",
            "11\n",
            "Square of even numbers\n",
            "4\n",
            "36\n",
            "144\n",
            "64\n"
          ]
        }
      ]
    },
    {
      "cell_type": "code",
      "source": [],
      "metadata": {
        "id": "Za0ezcvac4BP"
      },
      "execution_count": null,
      "outputs": []
    },
    {
      "cell_type": "markdown",
      "source": [
        "Task Description #3: • Create a class called BankAccount with attributes account_holder and balance. Use Copilot to complete methods for deposit(), withdraw(), and check for insufficient balance."
      ],
      "metadata": {
        "id": "0FAIbBo9dg_Q"
      }
    },
    {
      "cell_type": "code",
      "metadata": {
        "colab": {
          "base_uri": "https://localhost:8080/"
        },
        "id": "3189ab14",
        "outputId": "66fcfbfd-3113-4007-8847-41e3d413ac7f"
      },
      "source": [
        "class BankAccount:\n",
        "    def __init__(self, account_holder, balance=0):\n",
        "        self.account_holder = account_holder\n",
        "        self.balance = balance\n",
        "\n",
        "    def deposit(self, amount):\n",
        "        \"\"\"Deposits the specified amount into the account.\"\"\"\n",
        "        if amount > 0:\n",
        "            self.balance += amount\n",
        "            print(f\"Deposited {amount}. New balance: {self.balance}\")\n",
        "        else:\n",
        "            print(\"Deposit amount must be positive.\")\n",
        "\n",
        "    def withdraw(self, amount):\n",
        "        \"\"\"Withdraws the specified amount from the account.\"\"\"\n",
        "        if amount <= 0:\n",
        "            print(\"Withdrawal amount must be positive.\")\n",
        "        elif self.balance >= amount:\n",
        "            self.balance -= amount\n",
        "            print(f\"Withdrew {amount}. New balance: {self.balance}\")\n",
        "        else:\n",
        "            print(\"Insufficient balance.\")\n",
        "\n",
        "    def check_balance(self):\n",
        "        \"\"\"Displays the current account balance.\"\"\"\n",
        "        print(f\"Current balance: {self.balance}\")\n",
        "\n",
        "    def has_sufficient_balance(self, amount):\n",
        "        \"\"\"Checks if the account has sufficient balance for withdrawal.\"\"\"\n",
        "        return self.balance >= amount\n",
        "\n",
        "# Example usage:\n",
        "account1 = BankAccount(\"Alice\")\n",
        "account1.deposit(1000)\n",
        "account1.withdraw(500)\n",
        "account1.check_balance()\n",
        "account1.withdraw(600) # This should show \"Insufficient balance.\""
      ],
      "execution_count": 11,
      "outputs": [
        {
          "output_type": "stream",
          "name": "stdout",
          "text": [
            "Deposited 1000. New balance: 1000\n",
            "Withdrew 500. New balance: 500\n",
            "Current balance: 500\n",
            "Insufficient balance.\n"
          ]
        }
      ]
    },
    {
      "cell_type": "markdown",
      "source": [
        "Task Description #4:\n",
        "• Define a list of student dictionaries with keys name and score. Ask Copilot to write a while\n",
        "loop to print the names of students who scored more than 75"
      ],
      "metadata": {
        "id": "MHHpyonYd6CB"
      }
    },
    {
      "cell_type": "code",
      "metadata": {
        "colab": {
          "base_uri": "https://localhost:8080/"
        },
        "id": "bb7a2fba",
        "outputId": "850044e2-69f7-43af-ebdd-ee686c81a05a"
      },
      "source": [
        "students = [\n",
        "    {\"name\": \"Alice\", \"score\": 85},\n",
        "    {\"name\": \"Bob\", \"score\": 70},\n",
        "    {\"name\": \"Charlie\", \"score\": 92},\n",
        "    {\"name\": \"David\", \"score\": 78},\n",
        "    {\"name\": \"Eve\", \"score\": 65}\n",
        "]\n",
        "\n",
        "i = 0\n",
        "print(\"Students who scored more than 75:\")\n",
        "while i < len(students):\n",
        "    if students[i][\"score\"] > 75:\n",
        "        print(students[i][\"name\"])\n",
        "    i += 1"
      ],
      "execution_count": 12,
      "outputs": [
        {
          "output_type": "stream",
          "name": "stdout",
          "text": [
            "Students who scored more than 75:\n",
            "Alice\n",
            "Charlie\n",
            "David\n"
          ]
        }
      ]
    },
    {
      "cell_type": "markdown",
      "source": [
        "Task Description #5: • Begin writing a class ShoppingCart with an empty items list. Prompt Copilot to generate methods to add_item, remove_item, and use a loop to calculate the total bill using conditional discounts."
      ],
      "metadata": {
        "id": "Ek8IqgLMeOnZ"
      }
    },
    {
      "cell_type": "code",
      "metadata": {
        "colab": {
          "base_uri": "https://localhost:8080/"
        },
        "id": "4ae1028a",
        "outputId": "52725cd4-04f0-4342-ee3c-46693763c2e7"
      },
      "source": [
        "class ShoppingCart:\n",
        "    def __init__(self):\n",
        "        self.items = []\n",
        "\n",
        "    def add_item(self, item, price, quantity=1):\n",
        "        \"\"\"Adds an item to the shopping cart.\"\"\"\n",
        "        self.items.append({\"item\": item, \"price\": price, \"quantity\": quantity})\n",
        "        print(f\"Added {quantity} x {item} to the cart.\")\n",
        "\n",
        "    def remove_item(self, item):\n",
        "        \"\"\"Removes an item from the shopping cart.\"\"\"\n",
        "        initial_item_count = len(self.items)\n",
        "        self.items = [i for i in self.items if i[\"item\"] != item]\n",
        "        if len(self.items) < initial_item_count:\n",
        "            print(f\"Removed {item} from the cart.\")\n",
        "        else:\n",
        "            print(f\"{item} not found in the cart.\")\n",
        "\n",
        "    def calculate_total(self):\n",
        "        \"\"\"Calculates the total bill with conditional discounts.\"\"\"\n",
        "        total = 0\n",
        "        for item in self.items:\n",
        "            item_total = item[\"price\"] * item[\"quantity\"]\n",
        "            # Apply a discount if the item quantity is 5 or more\n",
        "            if item[\"quantity\"] >= 5:\n",
        "                discount = item_total * 0.10  # 10% discount\n",
        "                item_total -= discount\n",
        "                print(f\"Applied 10% discount on {item['item']} ({discount:.2f})\")\n",
        "            total += item_total\n",
        "        return total\n",
        "\n",
        "# Example usage:\n",
        "cart = ShoppingCart()\n",
        "cart.add_item(\"Laptop\", 1000, 1)\n",
        "cart.add_item(\"Mouse\", 25, 2)\n",
        "cart.add_item(\"Keyboard\", 75, 5)\n",
        "cart.add_item(\"Monitor\", 300, 1)\n",
        "\n",
        "print(\"\\nItems in cart:\")\n",
        "for item in cart.items:\n",
        "    print(f\"- {item['item']} (Quantity: {item['quantity']}, Price: {item['price']})\")\n",
        "\n",
        "total_bill = cart.calculate_total()\n",
        "print(f\"\\nTotal bill: {total_bill:.2f}\")\n",
        "\n",
        "cart.remove_item(\"Mouse\")\n",
        "\n",
        "print(\"\\nItems in cart after removal:\")\n",
        "for item in cart.items:\n",
        "    print(f\"- {item['item']} (Quantity: {item['quantity']}, Price: {item['price']})\")\n",
        "\n",
        "total_bill_after_removal = cart.calculate_total()\n",
        "print(f\"\\nTotal bill after removal: {total_bill_after_removal:.2f}\")"
      ],
      "execution_count": 13,
      "outputs": [
        {
          "output_type": "stream",
          "name": "stdout",
          "text": [
            "Added 1 x Laptop to the cart.\n",
            "Added 2 x Mouse to the cart.\n",
            "Added 5 x Keyboard to the cart.\n",
            "Added 1 x Monitor to the cart.\n",
            "\n",
            "Items in cart:\n",
            "- Laptop (Quantity: 1, Price: 1000)\n",
            "- Mouse (Quantity: 2, Price: 25)\n",
            "- Keyboard (Quantity: 5, Price: 75)\n",
            "- Monitor (Quantity: 1, Price: 300)\n",
            "Applied 10% discount on Keyboard (37.50)\n",
            "\n",
            "Total bill: 1687.50\n",
            "Removed Mouse from the cart.\n",
            "\n",
            "Items in cart after removal:\n",
            "- Laptop (Quantity: 1, Price: 1000)\n",
            "- Keyboard (Quantity: 5, Price: 75)\n",
            "- Monitor (Quantity: 1, Price: 300)\n",
            "Applied 10% discount on Keyboard (37.50)\n",
            "\n",
            "Total bill after removal: 1637.50\n"
          ]
        }
      ]
    }
  ]
}